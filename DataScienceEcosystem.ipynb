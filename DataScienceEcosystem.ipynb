{
 "cells": [
  {
   "cell_type": "code",
   "execution_count": 11,
   "id": "83f8d1c5-a65b-4058-aae6-d7e66622e081",
   "metadata": {
    "tags": []
   },
   "outputs": [
    {
     "ename": "SyntaxError",
     "evalue": "invalid syntax (1729631213.py, line 1)",
     "output_type": "error",
     "traceback": [
      "\u001b[0;36m  File \u001b[0;32m\"/tmp/ipykernel_368/1729631213.py\"\u001b[0;36m, line \u001b[0;32m1\u001b[0m\n\u001b[0;31m    <center>\u001b[0m\n\u001b[0m    ^\u001b[0m\n\u001b[0;31mSyntaxError\u001b[0m\u001b[0;31m:\u001b[0m invalid syntax\n"
     ]
    }
   ],
   "source": [
    "<center>\n",
    "    <img src=\"https://cf-courses-data.s3.us.cloud-object-storage.appdomain.cloud/IBMDeveloperSkillsNetwork-DS0105EN-SkillsNetwork/labs/Module2/images/SN_web_lightmode.png\" width=\"300\" alt=\"cognitiveclass.ai logo\">\n",
    "</center>\n"
   ]
  },
  {
   "cell_type": "markdown",
   "id": "7c4c0d18-0b0f-42ee-8b28-68e5197442be",
   "metadata": {},
   "source": [
    "#### Add your code below following the instructions given in the course\n"
   ]
  },
  {
   "cell_type": "markdown",
   "id": "61ffed89-b80e-4d08-8717-479f63d5bfe9",
   "metadata": {},
   "source": [
    "# Data Science Tools and Ecosystem"
   ]
  },
  {
   "cell_type": "markdown",
   "id": "3071b8e7-6e26-4df7-b600-354c98619737",
   "metadata": {},
   "source": [
    "### In this notebook, Data Science Tools and Ecosystem are summarized.\n",
    "* Jupyter Notebooks / JupyterLab:\n",
    "An interactive web-based environment allowing the creation and sharing of documents containing live code, equations, visualizations, and narrative text. It's widely used in the data science community due to its flexibility and ability to integrate code, visualizations, and explanations into a single document.\n",
    "\n",
    "* RStudio:\n",
    "A dedicated IDE (Integrated Development Environment) for R, providing an easy-to-use interface for writing code, running data analyses, and creating visualizations. RStudio includes features like code auto-completion, plotting, and interactive visualization panels.\n",
    "\n"
   ]
  },
  {
   "cell_type": "markdown",
   "id": "74149b97-bbba-4cb2-8d39-9edcf2bdca3c",
   "metadata": {},
   "source": [
    "### Some of the popular languages that Data Scientists use are:\n",
    "1. Python\n",
    "2. R\n",
    "3. SQL\n",
    "4. Scala\n",
    "5. C\n",
    "6. C++\n",
    "7. Java\n"
   ]
  },
  {
   "cell_type": "markdown",
   "id": "01b7435d-f7d3-400b-8d57-30b88957761c",
   "metadata": {},
   "source": [
    "### Some of the commonly used libraries used by Data Scientists include:\n",
    "|Library|description|\n",
    "|-------|-----------|\n",
    "|NumPy|Fundamental library for scientific computing, providing support for arrays, matrices, and mathematical functions.|\n",
    "|Matplotlib|Plotting library for creating static, animated, and interactive visualizations.|\n",
    "|Pandas|Powerful library for data manipulation and analysis, providing structures like Series and DataFrame.|\n",
    "|ggplot2| Implementation of the Grammar of Graphics, creating elegant data visualizations.|\n",
    "|dplyr|Grammar of data manipulation, providing a consistent set of verbs to solve data manipulation challenges.|"
   ]
  },
  {
   "cell_type": "markdown",
   "id": "b26738c3-3088-4619-90ae-14e4b9cb5a88",
   "metadata": {},
   "source": [
    "### Below are a few examples of evaluating arithmetic expressions in Python\n",
    "* Arithmetic operations are evaluated using logical operators that are read through a programming language syntax. The basic arithmetic operators are as follows: (+) addition, (-) subtraction, (*) multiplication, and (/) division."
   ]
  },
  {
   "cell_type": "code",
   "execution_count": 3,
   "id": "e38b78d4-81d2-41af-88c9-202c021656a8",
   "metadata": {
    "tags": []
   },
   "outputs": [
    {
     "data": {
      "text/plain": [
       "17"
      ]
     },
     "execution_count": 3,
     "metadata": {},
     "output_type": "execute_result"
    }
   ],
   "source": [
    "(3*4)+5"
   ]
  },
  {
   "cell_type": "code",
   "execution_count": 9,
   "id": "20ee7fc7-fb19-4153-a589-7ae3f5aeb124",
   "metadata": {
    "tags": []
   },
   "outputs": [
    {
     "data": {
      "text/plain": [
       "3.3333333333333335"
      ]
     },
     "execution_count": 9,
     "metadata": {},
     "output_type": "execute_result"
    }
   ],
   "source": [
    "# Create a code cell to convert minutes to hours\n",
    "def minutesOfHours(minutes: int) -> float:\n",
    "    hour: float = minutes / 60\n",
    "    return hour\n",
    "\n",
    "minutesofHours(200)"
   ]
  },
  {
   "cell_type": "markdown",
   "id": "960c9428-7e48-44d5-9806-00c4320c1756",
   "metadata": {},
   "source": [
    "### Objectives:\n",
    "* List popular languages for Data Science\n",
    "* Using arithmetic operations in Python\n",
    "* Retroalimentar librerías de ciencia de datos\" se traduce al inglés como \"provide feedback on data science libraries\n",
    "* Learning to use Jupyter Notebook."
   ]
  },
  {
   "cell_type": "markdown",
   "id": "31f4955d-6b20-4f15-a413-abd12ac8467a",
   "metadata": {},
   "source": [
    "## Author\n",
    "\n",
    "SERGIO JOSUE BENITEZ PERALTA"
   ]
  }
 ],
 "metadata": {
  "kernelspec": {
   "display_name": "Python",
   "language": "python",
   "name": "conda-env-python-py"
  },
  "language_info": {
   "codemirror_mode": {
    "name": "ipython",
    "version": 3
   },
   "file_extension": ".py",
   "mimetype": "text/x-python",
   "name": "python",
   "nbconvert_exporter": "python",
   "pygments_lexer": "ipython3",
   "version": "3.7.12"
  }
 },
 "nbformat": 4,
 "nbformat_minor": 5
}
